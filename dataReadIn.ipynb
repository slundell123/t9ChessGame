{
 "cells": [
  {
   "cell_type": "code",
   "execution_count": 2,
   "id": "a4150024",
   "metadata": {},
   "outputs": [],
   "source": [
    "import bz2\n",
    "import csv\n",
    "import os\n",
    "import chess"
   ]
  },
  {
   "cell_type": "code",
   "execution_count": 3,
   "id": "b0d0ec31",
   "metadata": {},
   "outputs": [],
   "source": [
    "from functools import partial\n",
    "\n",
    "def readlines():\n",
    "    with open(os.path.abspath(filename), 'rb') as file:\n",
    "        try:\n",
    "            for row in csv.reader(_line_reader(file)):\n",
    "                yield row\n",
    "        except EOFError:\n",
    "            return\n",
    "def _line_reader(file):\n",
    "    buffer = ''\n",
    "    decompressor = bz2.BZ2Decompressor()\n",
    "    reader = partial(file.read, buffer_size)\n",
    "    for bindata in iter(reader, b''):\n",
    "        block = decompressor.decompress(bindata).decode(\"utf-8\")\n",
    "        buffer += block\n",
    "        if '\\n' in buffer:\n",
    "            lines = buffer.splitlines(True)\n",
    "            if lines:\n",
    "                buffer = '' if lines[-1].endswith('\\n') else lines.pop()\n",
    "                for line in lines:\n",
    "                    yield line"
   ]
  },
  {
   "cell_type": "code",
   "execution_count": 4,
   "id": "261b58e3",
   "metadata": {},
   "outputs": [
    {
     "name": "stdout",
     "output_type": "stream",
     "text": [
      "[['00008', 'r6k/pp2r2p/4Rp1Q/3p4/8/1N1P2R1/PqP2bPP/7K b - - 0 24', 'f2g3 e6e7 b2b1 b3c1 b1c1 h6c1', '1795', '75', '92', '438', 'crushing hangingPiece long middlegame', 'https://lichess.org/787zsVup/black#48'], ['0000D', '5rk1/1p3ppp/pq3b2/8/8/1P1Q1N2/P4PPP/3R2K1 w - - 2 27', 'd3d6 f8d8 d6d8 f6d8', '1536', '74', '96', '8253', 'advantage endgame short', 'https://lichess.org/F8M8OS71#53'], ['0009B', 'r2qr1k1/b1p2ppp/pp4n1/P1P1p3/4P1n1/B2P2Pb/3NBP1P/RN1QR1K1 b - - 1 16', 'b6c5 e2g4 h3g4 d1g4', '1111', '75', '85', '498', 'advantage middlegame short', 'https://lichess.org/4MWQCxQ6/black#32'], ['000aY', 'r4rk1/pp3ppp/2n1b3/q1pp2B1/8/P1Q2NP1/1PP1PP1P/2KR3R w - - 0 15', 'g5e7 a5c3 b2c3 c6e7', '1350', '75', '92', '370', 'advantage master middlegame short', 'https://lichess.org/iihZGl6t#29'], ['000hf', 'r1bqk2r/pp1nbNp1/2p1p2p/8/2BP4/1PN3P1/P3QP1P/3R1RK1 b kq - 0 19', 'e8f7 e2e6 f7f8 e6f7', '1326', '74', '100', '260', 'mate mateIn2 middlegame short', 'https://lichess.org/71ygsFeE/black#38'], ['000rO', '3R4/8/K7/pB2b3/1p6/1P2k3/3p4/8 w - - 4 58', 'a6a5 e5c7 a5b4 c7d8', '1039', '80', '85', '51', 'crushing endgame fork short', 'https://lichess.org/tzeeBEc2#115'], ['000tp', '4r3/5pk1/1p3np1/3p3p/2qQ4/P4N1P/1P3RP1/7K w - - 6 34', 'd4b6 f6e4 h1g1 e4f2', '2038', '75', '80', '102', 'crushing endgame short trappedPiece', 'https://lichess.org/GeXqsW90#67'], ['00143', 'r2q1rk1/5ppp/1np5/p1b5/2p1B3/P7/1P3PPP/R1BQ1RK1 b - - 1 17', 'd8f6 d1h5 h7h6 h5c5', '1745', '74', '90', '1279', 'advantage middlegame short', 'https://lichess.org/jcuxlI63/black#34'], ['0018S', '2kr3r/pp3p2/4p2p/1N1p2p1/3Q4/1P1P4/2q2PPP/5RK1 b - - 1 20', 'b7b6 d4a1 a7a5 f1c1', '2518', '100', '91', '915', 'advantage endgame pin short', 'https://lichess.org/H1ARO2GL/black#40'], ['001Wz', '4r1k1/5ppp/r1p5/p1n1RP2/8/2P2N1P/2P3P1/3R2K1 b - - 0 21', 'e8e5 d1d8 e5e8 d8e8', '1128', '81', '87', '51', 'backRankMate endgame mate mateIn2 short', 'https://lichess.org/84RH3LaP/black#42']]\n"
     ]
    }
   ],
   "source": [
    "filename = \"lichess_db_puzzle.csv.bz2\"\n",
    "buffer_size = 4*1024\n",
    "\n",
    "puzzlesWithinRange = []\n",
    "for row in readlines():\n",
    "    puzzlesWithinRange.append(row)\n",
    "\n",
    "print(puzzlesWithinRange[0:10])"
   ]
  },
  {
   "cell_type": "code",
   "execution_count": null,
   "id": "4e3a9b62",
   "metadata": {},
   "outputs": [],
   "source": [
    "chess.Board(FEN = puzzlesWithinRange[0])"
   ]
  }
 ],
 "metadata": {
  "kernelspec": {
   "display_name": "Python 3 (ipykernel)",
   "language": "python",
   "name": "python3"
  },
  "language_info": {
   "codemirror_mode": {
    "name": "ipython",
    "version": 3
   },
   "file_extension": ".py",
   "mimetype": "text/x-python",
   "name": "python",
   "nbconvert_exporter": "python",
   "pygments_lexer": "ipython3",
   "version": "3.8.12"
  }
 },
 "nbformat": 4,
 "nbformat_minor": 5
}
